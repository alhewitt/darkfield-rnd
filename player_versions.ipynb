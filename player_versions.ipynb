{
 "cells": [
  {
   "cell_type": "markdown",
   "id": "confident-google",
   "metadata": {},
   "source": [
    "# Pygame"
   ]
  },
  {
   "cell_type": "code",
   "execution_count": 2,
   "id": "closing-bruce",
   "metadata": {},
   "outputs": [
    {
     "name": "stdout",
     "output_type": "stream",
     "text": [
      "pygame 2.1.2 (SDL 2.0.16, Python 3.8.5)\n",
      "Hello from the pygame community. https://www.pygame.org/contribute.html\n"
     ]
    },
    {
     "ename": "error",
     "evalue": "video system not initialized",
     "output_type": "error",
     "traceback": [
      "\u001b[0;31m---------------------------------------------------------------------------\u001b[0m",
      "\u001b[0;31merror\u001b[0m                                     Traceback (most recent call last)",
      "\u001b[0;32m<ipython-input-2-200a2d401761>\u001b[0m in \u001b[0;36m<module>\u001b[0;34m\u001b[0m\n\u001b[1;32m     35\u001b[0m \u001b[0;32mwhile\u001b[0m \u001b[0;32mTrue\u001b[0m\u001b[0;34m:\u001b[0m \u001b[0;31m# infinite while-loop\u001b[0m\u001b[0;34m\u001b[0m\u001b[0;34m\u001b[0m\u001b[0m\n\u001b[1;32m     36\u001b[0m     \u001b[0;31m# play thunder sound if random condition met\u001b[0m\u001b[0;34m\u001b[0m\u001b[0;34m\u001b[0m\u001b[0;34m\u001b[0m\u001b[0m\n\u001b[0;32m---> 37\u001b[0;31m     \u001b[0;32mfor\u001b[0m \u001b[0mevent\u001b[0m \u001b[0;32min\u001b[0m \u001b[0mpygame\u001b[0m\u001b[0;34m.\u001b[0m\u001b[0mevent\u001b[0m\u001b[0;34m.\u001b[0m\u001b[0mget\u001b[0m\u001b[0;34m(\u001b[0m\u001b[0;34m)\u001b[0m\u001b[0;34m:\u001b[0m\u001b[0;34m\u001b[0m\u001b[0;34m\u001b[0m\u001b[0m\n\u001b[0m\u001b[1;32m     38\u001b[0m         \u001b[0;32mif\u001b[0m \u001b[0mevent\u001b[0m\u001b[0;34m.\u001b[0m\u001b[0mtype\u001b[0m \u001b[0;34m==\u001b[0m \u001b[0mpygame\u001b[0m\u001b[0;34m.\u001b[0m\u001b[0mQUIT\u001b[0m\u001b[0;34m:\u001b[0m \u001b[0;31m# if event is a quit event, (i.e. alt-F4)\u001b[0m\u001b[0;34m\u001b[0m\u001b[0;34m\u001b[0m\u001b[0m\n\u001b[1;32m     39\u001b[0m             \u001b[0mpygame\u001b[0m\u001b[0;34m.\u001b[0m\u001b[0mquit\u001b[0m\u001b[0;34m(\u001b[0m\u001b[0;34m)\u001b[0m\u001b[0;34m\u001b[0m\u001b[0;34m\u001b[0m\u001b[0m\n",
      "\u001b[0;31merror\u001b[0m: video system not initialized"
     ]
    }
   ],
   "source": [
    "import pygame\n",
    "import random\n",
    "import time\n",
    "\n",
    "import os\n",
    "os.environ['SDL_AUDIODRIVER'] = 'alsa'\n",
    "\n",
    "\n",
    "# pygame.mixer.pre_init(frequency = 44100, size = -16, channels = 6, buffer = 20)\n",
    "# Initialise pygame\n",
    "pygame.init()\n",
    "screen = pygame.display.set_mode((600, 400))\n",
    "\n",
    "# initialize pygame.mixer\n",
    "pygame.mixer.init(frequency = 44100, size = -16, channels = 6, buffer = 20)\n",
    "# pygame.mixer.init()\n",
    "pygame.mixer.get_num_channels()\n",
    "\n",
    "\n",
    "# init() channels refers to mono vs stereo, not playback Channel object\n",
    "\n",
    "background = pygame.mixer.Sound('4 Channel Fight/AUDIO_16_FIGHT_BASE.wav')\n",
    "punch = pygame.mixer.Sound('4 Channel Fight/AUDIO_19_HIT_ME_2.wav')\n",
    "\n",
    "# create separate Channel objects for simultaneous playback\n",
    "channel1 = pygame.mixer.Channel(0) # argument must be int\n",
    "channel2 = pygame.mixer.Channel(1)\n",
    "\n",
    "# plays loop of rain sound indefinitely until stopping playback on Channel,\n",
    "# interruption by another Sound on same Channel, or quitting pygame\n",
    "channel1.play(background, loops = -1)\n",
    "\n",
    "# plays occasional thunder sounds\n",
    "duration = punch.get_length() # duration of thunder in seconds\n",
    "while True: # infinite while-loop\n",
    "    # play thunder sound if random condition met\n",
    "    for event in pygame.event.get():\n",
    "        if event.type == pygame.QUIT: # if event is a quit event, (i.e. alt-F4)\n",
    "            pygame.quit()     \n",
    "        if event.type == pygame.KEYDOWN:   # If a key is pressed\n",
    "            if event.key == pygame.K_SPACE:\n",
    "                channel2.play(punch, loops = 0)  "
   ]
  },
  {
   "cell_type": "markdown",
   "id": "liable-landscape",
   "metadata": {},
   "source": [
    "# Pyglet"
   ]
  },
  {
   "cell_type": "code",
   "execution_count": 1,
   "id": "amazing-richmond",
   "metadata": {},
   "outputs": [
    {
     "ename": "WAVEDecodeException",
     "evalue": "unknown format: 65534",
     "output_type": "error",
     "traceback": [
      "\u001b[0;31m---------------------------------------------------------------------------\u001b[0m",
      "\u001b[0;31mError\u001b[0m                                     Traceback (most recent call last)",
      "\u001b[0;32m~/anaconda3/lib/python3.8/site-packages/pyglet/media/codecs/wave.py\u001b[0m in \u001b[0;36m__init__\u001b[0;34m(self, filename, file)\u001b[0m\n\u001b[1;32m     56\u001b[0m         \u001b[0;32mtry\u001b[0m\u001b[0;34m:\u001b[0m\u001b[0;34m\u001b[0m\u001b[0;34m\u001b[0m\u001b[0m\n\u001b[0;32m---> 57\u001b[0;31m             \u001b[0mself\u001b[0m\u001b[0;34m.\u001b[0m\u001b[0m_wave\u001b[0m \u001b[0;34m=\u001b[0m \u001b[0mwave\u001b[0m\u001b[0;34m.\u001b[0m\u001b[0mopen\u001b[0m\u001b[0;34m(\u001b[0m\u001b[0mfile\u001b[0m\u001b[0;34m)\u001b[0m\u001b[0;34m\u001b[0m\u001b[0;34m\u001b[0m\u001b[0m\n\u001b[0m\u001b[1;32m     58\u001b[0m         \u001b[0;32mexcept\u001b[0m \u001b[0mwave\u001b[0m\u001b[0;34m.\u001b[0m\u001b[0mError\u001b[0m \u001b[0;32mas\u001b[0m \u001b[0me\u001b[0m\u001b[0;34m:\u001b[0m\u001b[0;34m\u001b[0m\u001b[0;34m\u001b[0m\u001b[0m\n",
      "\u001b[0;32m~/anaconda3/lib/python3.8/wave.py\u001b[0m in \u001b[0;36mopen\u001b[0;34m(f, mode)\u001b[0m\n\u001b[1;32m    509\u001b[0m     \u001b[0;32mif\u001b[0m \u001b[0mmode\u001b[0m \u001b[0;32min\u001b[0m \u001b[0;34m(\u001b[0m\u001b[0;34m'r'\u001b[0m\u001b[0;34m,\u001b[0m \u001b[0;34m'rb'\u001b[0m\u001b[0;34m)\u001b[0m\u001b[0;34m:\u001b[0m\u001b[0;34m\u001b[0m\u001b[0;34m\u001b[0m\u001b[0m\n\u001b[0;32m--> 510\u001b[0;31m         \u001b[0;32mreturn\u001b[0m \u001b[0mWave_read\u001b[0m\u001b[0;34m(\u001b[0m\u001b[0mf\u001b[0m\u001b[0;34m)\u001b[0m\u001b[0;34m\u001b[0m\u001b[0;34m\u001b[0m\u001b[0m\n\u001b[0m\u001b[1;32m    511\u001b[0m     \u001b[0;32melif\u001b[0m \u001b[0mmode\u001b[0m \u001b[0;32min\u001b[0m \u001b[0;34m(\u001b[0m\u001b[0;34m'w'\u001b[0m\u001b[0;34m,\u001b[0m \u001b[0;34m'wb'\u001b[0m\u001b[0;34m)\u001b[0m\u001b[0;34m:\u001b[0m\u001b[0;34m\u001b[0m\u001b[0;34m\u001b[0m\u001b[0m\n",
      "\u001b[0;32m~/anaconda3/lib/python3.8/wave.py\u001b[0m in \u001b[0;36m__init__\u001b[0;34m(self, f)\u001b[0m\n\u001b[1;32m    163\u001b[0m         \u001b[0;32mtry\u001b[0m\u001b[0;34m:\u001b[0m\u001b[0;34m\u001b[0m\u001b[0;34m\u001b[0m\u001b[0m\n\u001b[0;32m--> 164\u001b[0;31m             \u001b[0mself\u001b[0m\u001b[0;34m.\u001b[0m\u001b[0minitfp\u001b[0m\u001b[0;34m(\u001b[0m\u001b[0mf\u001b[0m\u001b[0;34m)\u001b[0m\u001b[0;34m\u001b[0m\u001b[0;34m\u001b[0m\u001b[0m\n\u001b[0m\u001b[1;32m    165\u001b[0m         \u001b[0;32mexcept\u001b[0m\u001b[0;34m:\u001b[0m\u001b[0;34m\u001b[0m\u001b[0;34m\u001b[0m\u001b[0m\n",
      "\u001b[0;32m~/anaconda3/lib/python3.8/wave.py\u001b[0m in \u001b[0;36minitfp\u001b[0;34m(self, file)\u001b[0m\n\u001b[1;32m    143\u001b[0m             \u001b[0;32mif\u001b[0m \u001b[0mchunkname\u001b[0m \u001b[0;34m==\u001b[0m \u001b[0;34mb'fmt '\u001b[0m\u001b[0;34m:\u001b[0m\u001b[0;34m\u001b[0m\u001b[0;34m\u001b[0m\u001b[0m\n\u001b[0;32m--> 144\u001b[0;31m                 \u001b[0mself\u001b[0m\u001b[0;34m.\u001b[0m\u001b[0m_read_fmt_chunk\u001b[0m\u001b[0;34m(\u001b[0m\u001b[0mchunk\u001b[0m\u001b[0;34m)\u001b[0m\u001b[0;34m\u001b[0m\u001b[0;34m\u001b[0m\u001b[0m\n\u001b[0m\u001b[1;32m    145\u001b[0m                 \u001b[0mself\u001b[0m\u001b[0;34m.\u001b[0m\u001b[0m_fmt_chunk_read\u001b[0m \u001b[0;34m=\u001b[0m \u001b[0;36m1\u001b[0m\u001b[0;34m\u001b[0m\u001b[0;34m\u001b[0m\u001b[0m\n",
      "\u001b[0;32m~/anaconda3/lib/python3.8/wave.py\u001b[0m in \u001b[0;36m_read_fmt_chunk\u001b[0;34m(self, chunk)\u001b[0m\n\u001b[1;32m    268\u001b[0m         \u001b[0;32melse\u001b[0m\u001b[0;34m:\u001b[0m\u001b[0;34m\u001b[0m\u001b[0;34m\u001b[0m\u001b[0m\n\u001b[0;32m--> 269\u001b[0;31m             \u001b[0;32mraise\u001b[0m \u001b[0mError\u001b[0m\u001b[0;34m(\u001b[0m\u001b[0;34m'unknown format: %r'\u001b[0m \u001b[0;34m%\u001b[0m \u001b[0;34m(\u001b[0m\u001b[0mwFormatTag\u001b[0m\u001b[0;34m,\u001b[0m\u001b[0;34m)\u001b[0m\u001b[0;34m)\u001b[0m\u001b[0;34m\u001b[0m\u001b[0;34m\u001b[0m\u001b[0m\n\u001b[0m\u001b[1;32m    270\u001b[0m         \u001b[0;32mif\u001b[0m \u001b[0;32mnot\u001b[0m \u001b[0mself\u001b[0m\u001b[0;34m.\u001b[0m\u001b[0m_nchannels\u001b[0m\u001b[0;34m:\u001b[0m\u001b[0;34m\u001b[0m\u001b[0;34m\u001b[0m\u001b[0m\n",
      "\u001b[0;31mError\u001b[0m: unknown format: 65534",
      "\nDuring handling of the above exception, another exception occurred:\n",
      "\u001b[0;31mWAVEDecodeException\u001b[0m                       Traceback (most recent call last)",
      "\u001b[0;32m<ipython-input-1-bc92806e475f>\u001b[0m in \u001b[0;36m<module>\u001b[0;34m\u001b[0m\n\u001b[1;32m     25\u001b[0m \u001b[0;34m\u001b[0m\u001b[0m\n\u001b[1;32m     26\u001b[0m \u001b[0;31m# load the media from the source\u001b[0m\u001b[0;34m\u001b[0m\u001b[0;34m\u001b[0m\u001b[0;34m\u001b[0m\u001b[0m\n\u001b[0;32m---> 27\u001b[0;31m \u001b[0mMediaLoad\u001b[0m \u001b[0;34m=\u001b[0m \u001b[0mpyglet\u001b[0m\u001b[0;34m.\u001b[0m\u001b[0mmedia\u001b[0m\u001b[0;34m.\u001b[0m\u001b[0mload\u001b[0m\u001b[0;34m(\u001b[0m\u001b[0mvidPath\u001b[0m\u001b[0;34m)\u001b[0m\u001b[0;34m\u001b[0m\u001b[0;34m\u001b[0m\u001b[0m\n\u001b[0m\u001b[1;32m     28\u001b[0m \u001b[0;34m\u001b[0m\u001b[0m\n\u001b[1;32m     29\u001b[0m \u001b[0;31m# add this media in the queue\u001b[0m\u001b[0;34m\u001b[0m\u001b[0;34m\u001b[0m\u001b[0;34m\u001b[0m\u001b[0m\n",
      "\u001b[0;32m~/anaconda3/lib/python3.8/site-packages/pyglet/media/__init__.py\u001b[0m in \u001b[0;36mload\u001b[0;34m(filename, file, streaming, decoder)\u001b[0m\n\u001b[1;32m    113\u001b[0m         \u001b[0;32mreturn\u001b[0m \u001b[0mdecoder\u001b[0m\u001b[0;34m.\u001b[0m\u001b[0mdecode\u001b[0m\u001b[0;34m(\u001b[0m\u001b[0mfilename\u001b[0m\u001b[0;34m,\u001b[0m \u001b[0mfile\u001b[0m\u001b[0;34m,\u001b[0m \u001b[0mstreaming\u001b[0m\u001b[0;34m=\u001b[0m\u001b[0mstreaming\u001b[0m\u001b[0;34m)\u001b[0m\u001b[0;34m\u001b[0m\u001b[0;34m\u001b[0m\u001b[0m\n\u001b[1;32m    114\u001b[0m     \u001b[0;32melse\u001b[0m\u001b[0;34m:\u001b[0m\u001b[0;34m\u001b[0m\u001b[0;34m\u001b[0m\u001b[0m\n\u001b[0;32m--> 115\u001b[0;31m         \u001b[0;32mreturn\u001b[0m \u001b[0m_codec_registry\u001b[0m\u001b[0;34m.\u001b[0m\u001b[0mdecode\u001b[0m\u001b[0;34m(\u001b[0m\u001b[0mfilename\u001b[0m\u001b[0;34m,\u001b[0m \u001b[0mfile\u001b[0m\u001b[0;34m,\u001b[0m \u001b[0mstreaming\u001b[0m\u001b[0;34m=\u001b[0m\u001b[0mstreaming\u001b[0m\u001b[0;34m)\u001b[0m\u001b[0;34m\u001b[0m\u001b[0;34m\u001b[0m\u001b[0m\n\u001b[0m\u001b[1;32m    116\u001b[0m \u001b[0;34m\u001b[0m\u001b[0m\n\u001b[1;32m    117\u001b[0m \u001b[0;34m\u001b[0m\u001b[0m\n",
      "\u001b[0;32m~/anaconda3/lib/python3.8/site-packages/pyglet/util.py\u001b[0m in \u001b[0;36mdecode\u001b[0;34m(self, filename, file, **kwargs)\u001b[0m\n\u001b[1;32m    213\u001b[0m         \u001b[0;32mif\u001b[0m \u001b[0;32mnot\u001b[0m \u001b[0mfirst_exception\u001b[0m\u001b[0;34m:\u001b[0m\u001b[0;34m\u001b[0m\u001b[0;34m\u001b[0m\u001b[0m\n\u001b[1;32m    214\u001b[0m             \u001b[0;32mraise\u001b[0m \u001b[0mDecodeException\u001b[0m\u001b[0;34m(\u001b[0m\u001b[0;34mf\"No decoders available for this file type: {filename}\"\u001b[0m\u001b[0;34m)\u001b[0m\u001b[0;34m\u001b[0m\u001b[0;34m\u001b[0m\u001b[0m\n\u001b[0;32m--> 215\u001b[0;31m         \u001b[0;32mraise\u001b[0m \u001b[0mfirst_exception\u001b[0m\u001b[0;34m\u001b[0m\u001b[0;34m\u001b[0m\u001b[0m\n\u001b[0m\u001b[1;32m    216\u001b[0m \u001b[0;34m\u001b[0m\u001b[0m\n\u001b[1;32m    217\u001b[0m     \u001b[0;32mdef\u001b[0m \u001b[0mencode\u001b[0m\u001b[0;34m(\u001b[0m\u001b[0mself\u001b[0m\u001b[0;34m,\u001b[0m \u001b[0mmedia\u001b[0m\u001b[0;34m,\u001b[0m \u001b[0mfilename\u001b[0m\u001b[0;34m,\u001b[0m \u001b[0mfile\u001b[0m\u001b[0;34m=\u001b[0m\u001b[0;32mNone\u001b[0m\u001b[0;34m,\u001b[0m \u001b[0;34m**\u001b[0m\u001b[0mkwargs\u001b[0m\u001b[0;34m)\u001b[0m\u001b[0;34m:\u001b[0m\u001b[0;34m\u001b[0m\u001b[0;34m\u001b[0m\u001b[0m\n",
      "\u001b[0;32m~/anaconda3/lib/python3.8/site-packages/pyglet/util.py\u001b[0m in \u001b[0;36mdecode\u001b[0;34m(self, filename, file, **kwargs)\u001b[0m\n\u001b[1;32m    197\u001b[0m         \u001b[0;32mfor\u001b[0m \u001b[0mdecoder\u001b[0m \u001b[0;32min\u001b[0m \u001b[0mself\u001b[0m\u001b[0;34m.\u001b[0m\u001b[0mget_decoders\u001b[0m\u001b[0;34m(\u001b[0m\u001b[0mfilename\u001b[0m\u001b[0;34m)\u001b[0m\u001b[0;34m:\u001b[0m\u001b[0;34m\u001b[0m\u001b[0;34m\u001b[0m\u001b[0m\n\u001b[1;32m    198\u001b[0m             \u001b[0;32mtry\u001b[0m\u001b[0;34m:\u001b[0m\u001b[0;34m\u001b[0m\u001b[0;34m\u001b[0m\u001b[0m\n\u001b[0;32m--> 199\u001b[0;31m                 \u001b[0;32mreturn\u001b[0m \u001b[0mdecoder\u001b[0m\u001b[0;34m.\u001b[0m\u001b[0mdecode\u001b[0m\u001b[0;34m(\u001b[0m\u001b[0mfilename\u001b[0m\u001b[0;34m,\u001b[0m \u001b[0mfile\u001b[0m\u001b[0;34m,\u001b[0m \u001b[0;34m**\u001b[0m\u001b[0mkwargs\u001b[0m\u001b[0;34m)\u001b[0m\u001b[0;34m\u001b[0m\u001b[0;34m\u001b[0m\u001b[0m\n\u001b[0m\u001b[1;32m    200\u001b[0m             \u001b[0;32mexcept\u001b[0m \u001b[0mDecodeException\u001b[0m \u001b[0;32mas\u001b[0m \u001b[0me\u001b[0m\u001b[0;34m:\u001b[0m\u001b[0;34m\u001b[0m\u001b[0;34m\u001b[0m\u001b[0m\n\u001b[1;32m    201\u001b[0m                 \u001b[0;32mif\u001b[0m \u001b[0;32mnot\u001b[0m \u001b[0mfirst_exception\u001b[0m\u001b[0;34m:\u001b[0m\u001b[0;34m\u001b[0m\u001b[0;34m\u001b[0m\u001b[0m\n",
      "\u001b[0;32m~/anaconda3/lib/python3.8/site-packages/pyglet/media/codecs/wave.py\u001b[0m in \u001b[0;36mdecode\u001b[0;34m(self, filename, file, streaming)\u001b[0m\n\u001b[1;32m    102\u001b[0m     \u001b[0;32mdef\u001b[0m \u001b[0mdecode\u001b[0m\u001b[0;34m(\u001b[0m\u001b[0mself\u001b[0m\u001b[0;34m,\u001b[0m \u001b[0mfilename\u001b[0m\u001b[0;34m,\u001b[0m \u001b[0mfile\u001b[0m\u001b[0;34m,\u001b[0m \u001b[0mstreaming\u001b[0m\u001b[0;34m=\u001b[0m\u001b[0;32mTrue\u001b[0m\u001b[0;34m)\u001b[0m\u001b[0;34m:\u001b[0m\u001b[0;34m\u001b[0m\u001b[0;34m\u001b[0m\u001b[0m\n\u001b[1;32m    103\u001b[0m         \u001b[0;32mif\u001b[0m \u001b[0mstreaming\u001b[0m\u001b[0;34m:\u001b[0m\u001b[0;34m\u001b[0m\u001b[0;34m\u001b[0m\u001b[0m\n\u001b[0;32m--> 104\u001b[0;31m             \u001b[0;32mreturn\u001b[0m \u001b[0mWaveSource\u001b[0m\u001b[0;34m(\u001b[0m\u001b[0mfilename\u001b[0m\u001b[0;34m,\u001b[0m \u001b[0mfile\u001b[0m\u001b[0;34m)\u001b[0m\u001b[0;34m\u001b[0m\u001b[0;34m\u001b[0m\u001b[0m\n\u001b[0m\u001b[1;32m    105\u001b[0m         \u001b[0;32melse\u001b[0m\u001b[0;34m:\u001b[0m\u001b[0;34m\u001b[0m\u001b[0;34m\u001b[0m\u001b[0m\n\u001b[1;32m    106\u001b[0m             \u001b[0;32mreturn\u001b[0m \u001b[0mStaticSource\u001b[0m\u001b[0;34m(\u001b[0m\u001b[0mWaveSource\u001b[0m\u001b[0;34m(\u001b[0m\u001b[0mfilename\u001b[0m\u001b[0;34m,\u001b[0m \u001b[0mfile\u001b[0m\u001b[0;34m)\u001b[0m\u001b[0;34m)\u001b[0m\u001b[0;34m\u001b[0m\u001b[0;34m\u001b[0m\u001b[0m\n",
      "\u001b[0;32m~/anaconda3/lib/python3.8/site-packages/pyglet/media/codecs/wave.py\u001b[0m in \u001b[0;36m__init__\u001b[0;34m(self, filename, file)\u001b[0m\n\u001b[1;32m     57\u001b[0m             \u001b[0mself\u001b[0m\u001b[0;34m.\u001b[0m\u001b[0m_wave\u001b[0m \u001b[0;34m=\u001b[0m \u001b[0mwave\u001b[0m\u001b[0;34m.\u001b[0m\u001b[0mopen\u001b[0m\u001b[0;34m(\u001b[0m\u001b[0mfile\u001b[0m\u001b[0;34m)\u001b[0m\u001b[0;34m\u001b[0m\u001b[0;34m\u001b[0m\u001b[0m\n\u001b[1;32m     58\u001b[0m         \u001b[0;32mexcept\u001b[0m \u001b[0mwave\u001b[0m\u001b[0;34m.\u001b[0m\u001b[0mError\u001b[0m \u001b[0;32mas\u001b[0m \u001b[0me\u001b[0m\u001b[0;34m:\u001b[0m\u001b[0;34m\u001b[0m\u001b[0;34m\u001b[0m\u001b[0m\n\u001b[0;32m---> 59\u001b[0;31m             \u001b[0;32mraise\u001b[0m \u001b[0mWAVEDecodeException\u001b[0m\u001b[0;34m(\u001b[0m\u001b[0me\u001b[0m\u001b[0;34m)\u001b[0m\u001b[0;34m\u001b[0m\u001b[0;34m\u001b[0m\u001b[0m\n\u001b[0m\u001b[1;32m     60\u001b[0m \u001b[0;34m\u001b[0m\u001b[0m\n\u001b[1;32m     61\u001b[0m         \u001b[0mnchannels\u001b[0m\u001b[0;34m,\u001b[0m \u001b[0msampwidth\u001b[0m\u001b[0;34m,\u001b[0m \u001b[0mframerate\u001b[0m\u001b[0;34m,\u001b[0m \u001b[0mnframes\u001b[0m\u001b[0;34m,\u001b[0m \u001b[0mcomptype\u001b[0m\u001b[0;34m,\u001b[0m \u001b[0mcompname\u001b[0m \u001b[0;34m=\u001b[0m \u001b[0mself\u001b[0m\u001b[0;34m.\u001b[0m\u001b[0m_wave\u001b[0m\u001b[0;34m.\u001b[0m\u001b[0mgetparams\u001b[0m\u001b[0;34m(\u001b[0m\u001b[0;34m)\u001b[0m\u001b[0;34m\u001b[0m\u001b[0;34m\u001b[0m\u001b[0m\n",
      "\u001b[0;31mWAVEDecodeException\u001b[0m: unknown format: 65534"
     ]
    }
   ],
   "source": [
    "# importing pyglet module\n",
    "import pyglet\n",
    "\n",
    "# width of window\n",
    "width = 500\n",
    "\n",
    "# height of window\n",
    "height = 500\n",
    "\n",
    "# caption i.e title of the window\n",
    "title = \"Pyglet Window\"\n",
    "\n",
    "# creating a window\n",
    "window = pyglet.window.Window(width, height, title)\n",
    "\n",
    "pyglet.options['audio'] = ('openal', 'pulse', 'xaudio2', 'directsound', 'silent')\n",
    "# video path\n",
    "vidPath ='output.wav'\n",
    "\n",
    "# creating a media player object\n",
    "player = pyglet.media.Player()\n",
    "\n",
    "# creating a source object\n",
    "source = pyglet.media.StreamingSource()\n",
    "\n",
    "# load the media from the source\n",
    "MediaLoad = pyglet.media.load(vidPath)\n",
    "\n",
    "# add this media in the queue\n",
    "player.queue(MediaLoad)\n",
    "\n",
    "# play the video\n",
    "player.play()\n",
    "\n",
    "# on draw event\n",
    "@window.event\n",
    "def on_draw():\n",
    "\t\n",
    "\t# clear the window\n",
    "\twindow.clear()\n",
    "\t\n",
    "\t# if player source exist\n",
    "\t# and video format exist\n",
    "\tif player.source and player.source.video_format:\n",
    "\t\t\n",
    "\t\t# get the texture of video and\n",
    "\t\t# make surface to display on the screen\n",
    "\t\tplayer.get_texture().blit(0, 0)\n",
    "\t\t\n",
    "\t\t\n",
    "# key press event\t\n",
    "@window.event\n",
    "def on_key_press(symbol, modifier):\n",
    "\n",
    "\t# key \"p\" get press\n",
    "\tif symbol == pyglet.window.key.P:\n",
    "\t\t\n",
    "\t\t# pause the video\n",
    "\t\tplayer.pause()\n",
    "\t\t\n",
    "\t\t# printing message\n",
    "\t\tprint(\"Video is paused\")\n",
    "\t\t\n",
    "\t\t\n",
    "\t# key \"r\" get press\n",
    "\tif symbol == pyglet.window.key.R:\n",
    "\t\t\n",
    "\t\t# resume the video\n",
    "\t\tplayer.play()\n",
    "\t\t\n",
    "\t\t# printing message\n",
    "\t\tprint(\"Video is resumed\")\n",
    "\t\t\n",
    "\t\t\n",
    "\n",
    "# run the pyglet application\n",
    "pyglet.app.run()"
   ]
  },
  {
   "cell_type": "code",
   "execution_count": 2,
   "id": "martial-government",
   "metadata": {},
   "outputs": [
    {
     "ename": "SyntaxError",
     "evalue": "invalid syntax (<ipython-input-2-7e3e1ff11ff9>, line 1)",
     "output_type": "error",
     "traceback": [
      "\u001b[0;36m  File \u001b[0;32m\"<ipython-input-2-7e3e1ff11ff9>\"\u001b[0;36m, line \u001b[0;32m1\u001b[0m\n\u001b[0;31m    sox AUDIO_19_HIT_ME_2.wav -b 16 -e signed-integer output.wav\u001b[0m\n\u001b[0m        ^\u001b[0m\n\u001b[0;31mSyntaxError\u001b[0m\u001b[0;31m:\u001b[0m invalid syntax\n"
     ]
    }
   ],
   "source": [
    "sox AUDIO_19_HIT_ME_2.wav -b 16 -e signed-integer output.wav"
   ]
  },
  {
   "cell_type": "code",
   "execution_count": 4,
   "id": "nuclear-brunei",
   "metadata": {},
   "outputs": [
    {
     "name": "stdout",
     "output_type": "stream",
     "text": [
      "\u001b[31mERROR: Could not find a version that satisfies the requirement pySonic\u001b[0m\n",
      "\u001b[31mERROR: No matching distribution found for pySonic\u001b[0m\n",
      "Note: you may need to restart the kernel to use updated packages.\n"
     ]
    }
   ],
   "source": [
    "pip install pySonic\n"
   ]
  },
  {
   "cell_type": "code",
   "execution_count": null,
   "id": "heard-midnight",
   "metadata": {},
   "outputs": [],
   "source": [
    "import pySonic\n",
    "import time\n",
    "\n",
    "def finished_stream(source):\n",
    "print 'Stream finished playing'\n",
    "\n",
    "# initialize the audio environment\n",
    "w = pySonic.World()\n",
    "\n",
    "# create two sources\n",
    "src1 = pySonic.Source()\n",
    "src2 = pySonic.Source()\n",
    "\n",
    "# load a sound entirely from disk, stream another from disk\n",
    "src1.Sound = pySonic.FileSample('short.wav')\n",
    "src2.Sound = pySonic.FileStream('long.mp3')\n",
    "\n",
    "# position the sources in 3D space\n",
    "src1.Position = (-0.5, 0.0, 0.5)\n",
    "src2.Position = (0.5, 0.0, 0.5)\n",
    "\n",
    "# register a callback for when the stream finishes\n",
    "src2.SetEndStreamCallback(finished_stream)\n",
    "\n",
    "# register a callback for when the stream finishes\n",
    "src1.Play()\n",
    "src2.Play()\n",
    "\n",
    "# just block while we're playing in this example\n",
    "while src1.IsPlaying() or src2.IsPlaying():\n",
    "time.sleep(1)"
   ]
  },
  {
   "cell_type": "code",
   "execution_count": 2,
   "id": "affiliated-bailey",
   "metadata": {},
   "outputs": [
    {
     "name": "stdout",
     "output_type": "stream",
     "text": [
      "Collecting sounddevice\n",
      "  Downloading sounddevice-0.4.5-py3-none-any.whl (31 kB)\n",
      "Requirement already satisfied: CFFI>=1.0 in /home/amy/anaconda3/lib/python3.8/site-packages (from sounddevice) (1.14.4)\n",
      "Requirement already satisfied: pycparser in /home/amy/anaconda3/lib/python3.8/site-packages (from CFFI>=1.0->sounddevice) (2.20)\n",
      "Installing collected packages: sounddevice\n",
      "Successfully installed sounddevice-0.4.5\n",
      "Note: you may need to restart the kernel to use updated packages.\n"
     ]
    }
   ],
   "source": [
    "pip install sounddevice"
   ]
  },
  {
   "cell_type": "code",
   "execution_count": 1,
   "id": "imposed-grain",
   "metadata": {},
   "outputs": [
    {
     "name": "stdout",
     "output_type": "stream",
     "text": [
      "   0 HDA Intel PCH: ALC3254 Analog (hw:0,0), ALSA (2 in, 2 out)\n",
      "   1 HDA Intel PCH: HDMI 0 (hw:0,3), ALSA (0 in, 2 out)\n",
      "   2 HDA Intel PCH: HDMI 1 (hw:0,7), ALSA (0 in, 8 out)\n",
      "   3 HDA Intel PCH: HDMI 2 (hw:0,8), ALSA (0 in, 8 out)\n",
      "   4 HDA Intel PCH: HDMI 3 (hw:0,9), ALSA (0 in, 8 out)\n",
      "   5 HDA Intel PCH: HDMI 4 (hw:0,10), ALSA (0 in, 8 out)\n",
      "   6 UMC204HD 192k: USB Audio (hw:1,0), ALSA (2 in, 0 out)\n",
      "   7 sysdefault, ALSA (128 in, 128 out)\n",
      "   8 front, ALSA (0 in, 2 out)\n",
      "   9 surround40, ALSA (0 in, 2 out)\n",
      "  10 surround51, ALSA (0 in, 2 out)\n",
      "  11 surround71, ALSA (0 in, 2 out)\n",
      "  12 hdmi, ALSA (0 in, 2 out)\n",
      "  13 samplerate, ALSA (128 in, 128 out)\n",
      "  14 speexrate, ALSA (128 in, 128 out)\n",
      "  15 pulse, ALSA (32 in, 32 out)\n",
      "  16 upmix, ALSA (8 in, 8 out)\n",
      "  17 vdownmix, ALSA (6 in, 6 out)\n",
      "  18 dmix, ALSA (0 in, 2 out)\n",
      "* 19 default, ALSA (32 in, 32 out)\n"
     ]
    }
   ],
   "source": [
    "\n",
    "\n",
    "import sounddevice as sd\n",
    "print(sd.query_devices())\n"
   ]
  },
  {
   "cell_type": "code",
   "execution_count": 1,
   "id": "psychological-affiliate",
   "metadata": {},
   "outputs": [
    {
     "name": "stdout",
     "output_type": "stream",
     "text": [
      "  0 HDA Intel PCH: HDMI 0 (hw:0,3), ALSA (0 in, 2 out)\n",
      "  1 HDA Intel PCH: HDMI 1 (hw:0,7), ALSA (0 in, 8 out)\n",
      "  2 HDA Intel PCH: HDMI 2 (hw:0,8), ALSA (0 in, 8 out)\n",
      "  3 HDA Intel PCH: HDMI 3 (hw:0,9), ALSA (0 in, 8 out)\n",
      "  4 HDA Intel PCH: HDMI 4 (hw:0,10), ALSA (0 in, 8 out)\n",
      "  5 hdmi, ALSA (0 in, 2 out)\n",
      "  6 pulse, ALSA (32 in, 32 out)\n",
      "* 7 default, ALSA (32 in, 32 out)\n"
     ]
    }
   ],
   "source": [
    "import sounddevice as sd\n",
    "print(sd.query_devices())"
   ]
  },
  {
   "cell_type": "code",
   "execution_count": null,
   "id": "subject-semiconductor",
   "metadata": {},
   "outputs": [],
   "source": [
    "import sounddevice as sd \n",
    "import soundfile as sf\n",
    "\n",
    "data, fs = sf.read(filename, dtype='float32')  \n",
    "sd.play(data, fs, device=10)\n",
    "status = sd.wait()"
   ]
  }
 ],
 "metadata": {
  "kernelspec": {
   "display_name": "Python 3",
   "language": "python",
   "name": "python3"
  },
  "language_info": {
   "codemirror_mode": {
    "name": "ipython",
    "version": 3
   },
   "file_extension": ".py",
   "mimetype": "text/x-python",
   "name": "python",
   "nbconvert_exporter": "python",
   "pygments_lexer": "ipython3",
   "version": "3.8.5"
  }
 },
 "nbformat": 4,
 "nbformat_minor": 5
}
